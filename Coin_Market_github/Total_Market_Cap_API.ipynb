{
 "cells": [
  {
   "cell_type": "code",
   "execution_count": null,
   "id": "5450a50f",
   "metadata": {},
   "outputs": [],
   "source": [
    "from requests import Request, Session\n",
    "from requests.exceptions import ConnectionError, Timeout, TooManyRedirects\n",
    "import json\n",
    "import pandas as pd\n",
    "from datetime import datetime"
   ]
  },
  {
   "cell_type": "code",
   "execution_count": null,
   "id": "0b4cb549",
   "metadata": {},
   "outputs": [],
   "source": [
    "url = 'https://pro-api.coinmarketcap.com/v1/cryptocurrency/listings/latest' \n",
    "#Original Sandbox Environment: 'https://sandbox-api.coinmarketcap.com/v1/cryptocurrency/listings/latest'\n",
    "parameters = {\n",
    "  'start':'1',\n",
    "  'limit':'5000',\n",
    "  'convert':'USD'\n",
    "}\n",
    "headers = {\n",
    "  'Accepts': 'application/json',\n",
    "  'X-CMC_PRO_API_KEY': '', #enter your API key\n",
    "}\n",
    "\n",
    "session = Session()\n",
    "session.headers.update(headers)\n",
    "\n",
    "try:\n",
    "    \n",
    "    response = session.get(url, params=parameters)\n",
    "    data = json.loads(response.text)\n",
    "\n",
    "\n",
    "except (ConnectionError, Timeout, TooManyRedirects) as e:\n",
    "    print(e)\n",
    "\n",
    "\n"
   ]
  },
  {
   "cell_type": "code",
   "execution_count": null,
   "id": "bbd00aac",
   "metadata": {},
   "outputs": [],
   "source": [
    "pd.set_option('display.max_columns', None)\n",
    "pd.set_option('display.max_rows', None)"
   ]
  },
  {
   "cell_type": "code",
   "execution_count": null,
   "id": "24e74b76",
   "metadata": {
    "scrolled": true
   },
   "outputs": [],
   "source": [
    "df = pd.json_normalize(data['data'])\n",
    "df.head()"
   ]
  },
  {
   "cell_type": "code",
   "execution_count": null,
   "id": "dd982fdd",
   "metadata": {
    "scrolled": true
   },
   "outputs": [],
   "source": [
    "# removed the scientific notation in the dataframe\n",
    "pd.set_option('display.float_format', '{:.6f}'.format)\n",
    "df.head()"
   ]
  },
  {
   "cell_type": "code",
   "execution_count": null,
   "id": "fe71ace9",
   "metadata": {},
   "outputs": [],
   "source": [
    "# To automate the process\n",
    "def api_total_runner():\n",
    "    global df \n",
    "\n",
    "    url = 'https://pro-api.coinmarketcap.com/v1/cryptocurrency/listings/latest' \n",
    "    #Original Sandbox Environment: 'https://sandbox-api.coinmarketcap.com/v1/cryptocurrency/listings/latest'\n",
    "    parameters = {\n",
    "      'start':'1',\n",
    "      'limit':'5000',\n",
    "      'convert':'USD'\n",
    "    }\n",
    "    headers = {\n",
    "      'Accepts': 'application/json',\n",
    "      'X-CMC_PRO_API_KEY': '',#enter your API Key\n",
    "    }\n",
    "\n",
    "    session = Session()\n",
    "    session.headers.update(headers)\n",
    "\n",
    "    try:\n",
    "      response = session.get(url, params=parameters)\n",
    "      data = json.loads(response.text)\n",
    "      #print(data)\n",
    "    except (ConnectionError, Timeout, TooManyRedirects) as e:\n",
    "      print(e)\n",
    "\n",
    "\n",
    "\n",
    "\n",
    "    #Create a csv and append data to it\n",
    "    df = pd.json_normalize(data['data'])\n",
    "    pd.set_option('display.float_format', '{:.6f}'.format)\n",
    "\n",
    "    \n",
    "    \n",
    "    totalcap = df['quote.USD.market_cap'].sum()\n",
    "    current_datetime = datetime.now()\n",
    "    formatted_datetime = current_datetime.strftime(\"%Y-%m-%d\")\n",
    "    df1 = pd.DataFrame(\n",
    "        {'Current_Datetime': [formatted_datetime],\n",
    "         'total_market_cap' : [totalcap]} \n",
    "        )\n",
    "    df1.set_index('Current_Datetime', inplace = True)\n",
    "\n",
    "\n",
    "    if not os.path.isfile(r'C:\\Users\\Itohan Omonkhogbe\\OneDrive - MSFT\\Python Project\\Python Scripts\\Sub_Coin\\TotalMarketCap.csv'):\n",
    "        df1.to_csv(r'C:\\Users\\Itohan Omonkhogbe\\OneDrive - MSFT\\Python Project\\Python Scripts\\Sub_Coin\\TotalMarketCap.csv', header='column_names')\n",
    "    else:\n",
    "        df1.to_csv(r'C:\\Users\\Itohan Omonkhogbe\\OneDrive - MSFT\\Python Project\\Python Scripts\\Sub_Coin\\TotalMarketCap.csv', mode='a', header=False)\n",
    "        \n",
    "    \n"
   ]
  },
  {
   "cell_type": "code",
   "execution_count": null,
   "id": "776a3b51",
   "metadata": {
    "scrolled": false
   },
   "outputs": [],
   "source": [
    "import os \n",
    "from time import time\n",
    "from time import sleep\n",
    "from datetime import datetime\n",
    "\n",
    "j=0\n",
    "for i in range(10000):\n",
    "    api_total_runner()\n",
    "    current_datetime = datetime.now()\n",
    "    j+=1\n",
    "   \n",
    "    print(f'({j}) API Runner completed {current_datetime}')\n",
    "    sleep(21600) #sleep for 6 hours\n",
    "exit()"
   ]
  },
  {
   "cell_type": "code",
   "execution_count": null,
   "id": "6a1258fb",
   "metadata": {},
   "outputs": [],
   "source": []
  }
 ],
 "metadata": {
  "kernelspec": {
   "display_name": "Python 3 (ipykernel)",
   "language": "python",
   "name": "python3"
  },
  "language_info": {
   "codemirror_mode": {
    "name": "ipython",
    "version": 3
   },
   "file_extension": ".py",
   "mimetype": "text/x-python",
   "name": "python",
   "nbconvert_exporter": "python",
   "pygments_lexer": "ipython3",
   "version": "3.11.5"
  }
 },
 "nbformat": 4,
 "nbformat_minor": 5
}
